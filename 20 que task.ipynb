{
 "cells": [
  {
   "cell_type": "markdown",
   "id": "59e9d948",
   "metadata": {},
   "source": [
    "1 . you have to write a fun which will take string and return a len of it without using a inbuilt fun len\n"
   ]
  },
  {
   "cell_type": "code",
   "execution_count": null,
   "id": "1047d79f",
   "metadata": {},
   "outputs": [],
   "source": [
    "def str_len(a):\n",
    "    \"\"\"\n",
    "    This function will return the length of the given string\n",
    "    \"\"\"\n",
    "    c=0\n",
    "    if type(a)==str:\n",
    "        for i in a:\n",
    "            c += 1\n",
    "        return c\n",
    "    else:\n",
    "        return \"Data type is not string\""
   ]
  },
  {
   "cell_type": "code",
   "execution_count": null,
   "id": "6bf23401",
   "metadata": {},
   "outputs": [],
   "source": [
    "str_len(\"fulstack\")"
   ]
  },
  {
   "cell_type": "code",
   "execution_count": null,
   "id": "e0605886",
   "metadata": {},
   "outputs": [],
   "source": [
    "str_len(12333)"
   ]
  },
  {
   "cell_type": "markdown",
   "id": "5b065664",
   "metadata": {},
   "source": [
    "2 . write a fun which will be able to print an index of all premitive element which you will pass"
   ]
  },
  {
   "cell_type": "code",
   "execution_count": null,
   "id": "89e6ca86",
   "metadata": {},
   "outputs": [],
   "source": [
    "def index_pos(l):\n",
    "    \"\"\"\n",
    "    This function will be able to print an index of all premitive element which you will pass\n",
    "    \"\"\"\n",
    "    if type(l) in [list,tuple,set,str]:\n",
    "        for i,j in enumerate(l):\n",
    "            print(f\"Index of element {j} is :{i}\")\n",
    "    else:\n",
    "        return \"Please enter iterable as an argument\""
   ]
  },
  {
   "cell_type": "code",
   "execution_count": null,
   "id": "0b80f3e3",
   "metadata": {},
   "outputs": [],
   "source": [
    "index_pos([34,2,3,7,89,90])"
   ]
  },
  {
   "cell_type": "markdown",
   "id": "252aa6af",
   "metadata": {},
   "source": [
    "3 . Write a fun which will take input as a dict and give me out as a list of all the values even in case of 2 level nesting it should work ."
   ]
  },
  {
   "cell_type": "code",
   "execution_count": null,
   "id": "23c04e6e",
   "metadata": {},
   "outputs": [],
   "source": [
    "def dict_to_list(d):\n",
    "    \"\"\"\n",
    "    This function will take input as a dict and give me out as a list of all the values \n",
    "    even in case of 2 level nesting it should work.\n",
    "    \"\"\"\n",
    "l=[]\n",
    "if type(d) == dict:\n",
    "    for i in d.values():\n",
    "        if type(i) == dict:\n",
    "            for j in i.values():\n",
    "                l.append(j)\n",
    "        else:\n",
    "            l.append(i)\n",
    "            return l\n",
    "else:\n",
    "    return \"Please enter dictionary as an argument\""
   ]
  },
  {
   "cell_type": "code",
   "execution_count": null,
   "id": "a27c7903",
   "metadata": {},
   "outputs": [],
   "source": [
    "d={'k1':12,'k2':{'s1':12,'s3':123},'k3':17}\n",
    "dict_to_list(d)"
   ]
  },
  {
   "cell_type": "markdown",
   "id": "e7f4a5ab",
   "metadata": {},
   "source": [
    "4 . write a fun which will take another function as an input and return me an output"
   ]
  },
  {
   "cell_type": "code",
   "execution_count": null,
   "id": "79bd197b",
   "metadata": {},
   "outputs": [],
   "source": [
    "def inside_fun(s):\n",
    "    return 'inside'+str(s)\n",
    "\n",
    "def outside_fun(f):\n",
    "    st=input(\"put anything:\")\n",
    "    return ('outside'+f(st))\n",
    "\n",
    "outside_fun(inside_fun)"
   ]
  },
  {
   "cell_type": "markdown",
   "id": "09e798ce",
   "metadata": {},
   "source": [
    "5. write a function which will take multiple list as a input and give me concatnation of all the element as and output"
   ]
  },
  {
   "cell_type": "code",
   "execution_count": null,
   "id": "c77099f1",
   "metadata": {},
   "outputs": [],
   "source": [
    "def concate_list(*args):\n",
    "    \"\"\"\n",
    "    Take multiple lists as an input and concate all the elements\n",
    "    \"\"\"\n",
    "    l=[]\n",
    "    for i in args:\n",
    "        if type(i) == list:\n",
    "            l.extend(i)\n",
    "    return l\n"
   ]
  },
  {
   "cell_type": "code",
   "execution_count": null,
   "id": "1f1a2a00",
   "metadata": {},
   "outputs": [],
   "source": [
    "concate_list([1,2,3,4,5],6,[7,8,9,0],2.5,[11,34,56,78])"
   ]
  },
  {
   "cell_type": "markdown",
   "id": "d6916914",
   "metadata": {},
   "source": [
    "6 . write a function which will be able to take a list as an input return an index of each element like a inbuilt index function but even if we have repetative element it should return index"
   ]
  },
  {
   "cell_type": "code",
   "execution_count": null,
   "id": "4f2067e3",
   "metadata": {},
   "outputs": [],
   "source": [
    "def list_index(l):\n",
    "    \"\"\"\n",
    "    Take a list as an input return an index of each element like a inbuilt index function \n",
    "    but even if we have repetative element it should return index\n",
    "    \"\"\"\n",
    "    if type(l) == list:\n",
    "        d = {}\n",
    "        for i,j in enumerate(l):\n",
    "            if j in d.keys():\n",
    "                d[j].append(i)\n",
    "            else:\n",
    "                d[j]=[i]\n",
    "        return d\n",
    "    else:\n",
    "        return \"Please enter list as an argument\""
   ]
  },
  {
   "cell_type": "markdown",
   "id": "c4fce17e",
   "metadata": {},
   "source": [
    "7 . Write a function which will whould return list of all the file name from a directory ."
   ]
  },
  {
   "cell_type": "code",
   "execution_count": null,
   "id": "a39718aa",
   "metadata": {},
   "outputs": [],
   "source": [
    "import os\n",
    "\n",
    "def file_list(dir_path):\n",
    "    if os.path.exists(dir_path):\n",
    "        l=[]\n",
    "        for f in os.listdir(dir_path):\n",
    "            if os.path.isfile(os.path.join(dir_path,f)):\n",
    "                l.append(f)\n",
    "        return l\n",
    "    \n",
    "    else:\n",
    "        return \"please enter correct path\" \n",
    "        "
   ]
  },
  {
   "cell_type": "markdown",
   "id": "f6810712",
   "metadata": {},
   "source": [
    "8 . write a function which will be able to show your system configuration"
   ]
  },
  {
   "cell_type": "code",
   "execution_count": null,
   "id": "02dd5014",
   "metadata": {},
   "outputs": [],
   "source": [
    "import platform,socket,re,psutil,uuid\n",
    "def sys_config():\n",
    "    \"\"\"\n",
    "    This function displays my system configuration\n",
    "    \"\"\"\n",
    "    info={}\n",
    "    uname = platform.uname()\n",
    "    info['platform']=platform.system()\n",
    "    info['platform-release']=platform.release()\n",
    "    info['platform-version']=platform.version()\n",
    "    info['processor']=uname.processor\n",
    "    info['architecture']=platform.machine()\n",
    "    info['hostname']=socket.gethostname()\n",
    "    info['ip-address']=socket.gethostbyname(socket.gethostname())\n",
    "    info['mac-address']=':'.join(re.findall('..', '%012x' % uuid.getnode()))\n",
    "    info['processor']=platform.processor()\n",
    "    info['ram']=str(round(psutil.virtual_memory().total / (1024.0 **3)))+\" GB\"\n",
    "    return info"
   ]
  },
  {
   "cell_type": "markdown",
   "id": "01dc727f",
   "metadata": {},
   "source": [
    "9 . write a function which will be able to show date and time"
   ]
  },
  {
   "cell_type": "code",
   "execution_count": null,
   "id": "f39bf914",
   "metadata": {},
   "outputs": [],
   "source": [
    "def todays_datetime():\n",
    "    \"\"\"\n",
    "    This function will be able to show date and time\n",
    "    \"\"\"\n",
    "    import datetime\n",
    "    tday = datetime.datetime.now()\n",
    "    tday_format = tday.strftime(\"%d-%m-%Y, %H:%M:%S\")\n",
    "    return tday_format\n",
    "\n",
    "todays_datetime()"
   ]
  },
  {
   "cell_type": "markdown",
   "id": "733881e4",
   "metadata": {},
   "source": [
    "10 . write a function which will be able to read a image file and show it to you ."
   ]
  },
  {
   "cell_type": "code",
   "execution_count": null,
   "id": "f3dcaa41",
   "metadata": {},
   "outputs": [],
   "source": [
    "!pip install opencv-python"
   ]
  },
  {
   "cell_type": "code",
   "execution_count": null,
   "id": "780057e9",
   "metadata": {},
   "outputs": [],
   "source": [
    "import cv2, os\n",
    "def img_reader(dir_path,img_file):\n",
    "    \"\"\"\n",
    "    This functions reads and shows image file\n",
    "    \"\"\"\n",
    "    c_path = os.path.join(dir_path,img_file)\n",
    "    if os.path.exists(c_path):\n",
    "        if filetype.is_image(c_path):\n",
    "            img = cv2.imread(c_path) \n",
    "            cv2.imshow('image', img)\n",
    "            cv2.waitKey(0) \n",
    "            cv2.destroyAllWindows() \n",
    "        else:\n",
    "            print(\"Please enter correct file as an argument\")\n",
    "    else:\n",
    "        print(\"Please enter correct path as an argument\")"
   ]
  },
  {
   "cell_type": "code",
   "execution_count": null,
   "id": "3edea20b",
   "metadata": {},
   "outputs": [],
   "source": []
  },
  {
   "cell_type": "markdown",
   "id": "96993754",
   "metadata": {},
   "source": [
    "11 . write a function which can read video file and play for you .\n"
   ]
  },
  {
   "cell_type": "code",
   "execution_count": null,
   "id": "76186040",
   "metadata": {},
   "outputs": [],
   "source": [
    "import cv2,  os\n",
    "def video_player(dir_path,v_file):\n",
    "    \"\"\"\n",
    "    This functions reads and play video file\n",
    "    \"\"\"\n",
    "    c_path = os.path.join(dir_path,v_file)\n",
    "    if os.path.exists(c_path):\n",
    "        if filetype.is_video(c_path):\n",
    "            print(2,c_path)\n",
    "            cap = cv2.VideoCapture(c_path) \n",
    "            if (cap.isOpened()== False): \n",
    "                print(\"Error opening video  file\")\n",
    "            while(cap.isOpened()):      \n",
    "                # Capture frame-by-frame\n",
    "                ret, frame = cap.read()\n",
    "                if ret == True:\n",
    "                    # Display the resulting frame\n",
    "                    cv2.imshow('Frame', frame)\n",
    "                    # Press Q on keyboard to  exit\n",
    "                    if cv2.waitKey(25) & 0xFF == ord('q'):\n",
    "                        break\n",
    "                else: \n",
    "                    break\n",
    "        else:\n",
    "            print(\"Please enter correct file as an argument\")\n",
    "    else:\n",
    "        print(\"Please enter correct path as an argument\")"
   ]
  },
  {
   "cell_type": "code",
   "execution_count": null,
   "id": "85ae71f5",
   "metadata": {},
   "outputs": [],
   "source": []
  },
  {
   "cell_type": "markdown",
   "id": "57a3b9e6",
   "metadata": {},
   "source": [
    "12 . write a function which can move a file from one directory to another directory ."
   ]
  },
  {
   "cell_type": "code",
   "execution_count": null,
   "id": "79b09ccc",
   "metadata": {},
   "outputs": [],
   "source": [
    "import os,shutil\n",
    "def move_file(path1,path2):\n",
    "    \"\"\"\n",
    "    This function will move a file from one directory to another directory\n",
    "    \"\"\"\n",
    "    if os.path.isfile(path1) and os.path.exists(path2):\n",
    "        shutil.move(path1, path2)\n",
    "    else:\n",
    "        print(\"Please enter correct path as an argument\")"
   ]
  },
  {
   "cell_type": "markdown",
   "id": "3482ea0f",
   "metadata": {},
   "source": [
    "13 . write a function which will be able to shutdonw your system ."
   ]
  },
  {
   "cell_type": "code",
   "execution_count": null,
   "id": "b70979a8",
   "metadata": {},
   "outputs": [],
   "source": [
    "import os\n",
    "def system_shutdown():\n",
    "    \"\"\"\n",
    "    This function will shutdown your system.\n",
    "    \"\"\"\n",
    "    shutdown = input(\"Do you wish to shutdown your computer ? (yes / no): \")  \n",
    "    if shutdown.lower() == 'no':\n",
    "        os.system(\"shutdown /s /t 1\")\n",
    "    else:      \n",
    "        exit()\n"
   ]
  },
  {
   "cell_type": "markdown",
   "id": "76d2a8a7",
   "metadata": {},
   "source": [
    "14 . write a function which will be able to access your mail ."
   ]
  },
  {
   "cell_type": "code",
   "execution_count": null,
   "id": "261e3a45",
   "metadata": {},
   "outputs": [],
   "source": [
    "def access_mail(mailid,passwd,no_of_mails=100):\n",
    "    \"\"\"\n",
    "    This function will be able to access your mail.\n",
    "    \"\"\"\n",
    "    import imaplib,email\n",
    "    host = 'imap.gmail.com'\n",
    "    port=993\n",
    "    mail=imaplib.IMAP4_SSL(host,port)\n",
    "    mail.login(mailid,passwd)\n",
    "    mail.select('inbox')\n",
    "    data=mail.search(None,'ALL')\n",
    "    id_list=data[1][0].split()\n",
    "    first_msg=int(id_list[0])\n",
    "    latest_msg=int(id_list[-1])\n",
    "    \n",
    "    for index,i in enumerate(range(latest_msg,first_msg,-1)):\n",
    "        data=mail.fetch(str(i),'(RFC822)')\n",
    "        for response_part in data:\n",
    "            arr = response_part[0]\n",
    "            if isinstance(arr,tuple):\n",
    "                msg = email.message_from_string(str(arr[1],'utf-8'))\n",
    "                print(msg.keys())\n",
    "                email_subject = msg['subject']\n",
    "                email_from=msg['from']\n",
    "                date=msg['Date']\n",
    "                content_type=msg['Content-Type']\n",
    "                print(f\"Date: {date}\")\n",
    "                print(f\"{index+1} From: {email_from}\")\n",
    "                print(f\"Subject: {email_subject}\")\n",
    "                print(f\"content type: {content_type}\")\n",
    "                print(\"-\"*100)\n",
    "            if index == no_of_mails:\n",
    "                break"
   ]
  },
  {
   "cell_type": "code",
   "execution_count": null,
   "id": "ae9812df",
   "metadata": {},
   "outputs": [],
   "source": [
    "import os\n",
    "email_id=os.environ.get('EMAIL_USER')\n",
    "email_pass=os.environ.get('EMAIL_PASS')\n",
    "\n",
    "access_mail(email_id,email_pass)"
   ]
  },
  {
   "cell_type": "markdown",
   "id": "77bca476",
   "metadata": {},
   "source": [
    "15 . write a func by which i can send a mail to anyone"
   ]
  },
  {
   "cell_type": "code",
   "execution_count": null,
   "id": "b539add1",
   "metadata": {},
   "outputs": [],
   "source": [
    "def send_mail(mailid,passwd,receiver):\n",
    "    \"\"\"\n",
    "    This function will be able to send mail.\n",
    "    \"\"\"\n",
    "    import smtplib\n",
    "\n",
    "    server = \"smtp.gmail.com\"\n",
    "    port=587\n",
    "    subject=input(\"Enter the subject: \")\n",
    "    message=input(\"Enter the message: \")\n",
    "\n",
    "    body=\"\"\"\n",
    "    Subject:{}\n",
    "\n",
    "    {}\n",
    "    \"\"\".format(subject,message)\n",
    "\n",
    "    #send mail\n",
    "    conn=smtplib.SMTP(server, port)\n",
    "    conn.starttls()\n",
    "    conn.login(mailid,email_pass)\n",
    "    conn.sendmail(email_id,receiver,body)\n",
    "    conn.quit()\n",
    "    print(\"Email sent successfully.\")"
   ]
  },
  {
   "cell_type": "code",
   "execution_count": null,
   "id": "7125b73e",
   "metadata": {},
   "outputs": [],
   "source": [
    "import os\n",
    "email_id=os.environ.get('EMAIL_USER')\n",
    "email_pass=os.environ.get('EMAIL_PASS')\n",
    "#receiver=input(\"Enter the receiver mail id: \")\n",
    "receiver=email_id\n",
    "send_mail(email_id,email_pass,receiver)"
   ]
  },
  {
   "cell_type": "markdown",
   "id": "977ff161",
   "metadata": {},
   "source": [
    "16. write a func to read a complete PDf file ."
   ]
  },
  {
   "cell_type": "code",
   "execution_count": null,
   "id": "5281eeaa",
   "metadata": {},
   "outputs": [],
   "source": [
    "import PyPDF2, os, filetype\n",
    "def pdf_reader(dir_path, pdf_name):\n",
    "    \"\"\"\n",
    "    This function reads a complete PDf file \n",
    "    \"\"\"\n",
    "    pdf_path = os.path.join(dir_path,pdf_name)\n",
    "    if os.path.exists(pdf_path) and filetype.guess(pdf_path).mime == 'application/pdf':\n",
    "        pdfFileObject = open(pdf_path, 'rb')\n",
    "        pdfReader = PyPDF2.PdfFileReader(pdfFileObject)\n",
    "        text=''\n",
    "        for i in range(0,pdfReader.numPages):\n",
    "            # creating a page object\n",
    "            pageObj = pdfReader.getPage(i)\n",
    "            # extracting text from page\n",
    "            text=text+pageObj.extractText()\n",
    "        return text\n",
    "    else:\n",
    "        print(\"Please enter correct path as an argument\")"
   ]
  },
  {
   "cell_type": "code",
   "execution_count": null,
   "id": "75ed8797",
   "metadata": {},
   "outputs": [],
   "source": [
    "d=''\n",
    "f=\"generated.pdf\"\n",
    "pdf_reader(d,f)"
   ]
  },
  {
   "cell_type": "markdown",
   "id": "ce2ef6ed",
   "metadata": {},
   "source": [
    "17. write a function to read a word file ."
   ]
  },
  {
   "cell_type": "code",
   "execution_count": null,
   "id": "09ca9197",
   "metadata": {},
   "outputs": [],
   "source": [
    "import docx, os\n",
    "def word_reader(dir_path, word_name):\n",
    "    \"\"\"\n",
    "    This function reads a word file \n",
    "    \"\"\"\n",
    "    word_path = os.path.join(dir_path,word_name)\n",
    "    if os.path.exists(word_path):\n",
    "        doc = docx.Document(word_path)\n",
    "        fullText = \"\"\n",
    "        for para in doc.paragraphs:\n",
    "            fullText += para.text\n",
    "            fullText += '\\n'\n",
    "        return fullText\n",
    "    else:\n",
    "        print(\"Please enter correct path as an argument\")"
   ]
  },
  {
   "cell_type": "markdown",
   "id": "104e4c9e",
   "metadata": {},
   "source": [
    "18 . write a function which can help you to filter only word file from a directory ."
   ]
  },
  {
   "cell_type": "code",
   "execution_count": null,
   "id": "1b8a921e",
   "metadata": {},
   "outputs": [],
   "source": [
    "import os\n",
    "def word_file_finder(dir_path):\n",
    "    \"\"\"\n",
    "    This function filters only word file from a directory\n",
    "    \"\"\"\n",
    "    if os.path.exists(dir_path):\n",
    "        file_list=[]\n",
    "        for root, dirs, files in os.walk(dir_path):\n",
    "            for file in files:\n",
    "                if file.endswith('.docx'):\n",
    "                    file_list.append(os.path.join(root, file))\n",
    "        return file_list\n",
    "    else:\n",
    "        print(\"Please enter correct path as an argument\")"
   ]
  },
  {
   "cell_type": "markdown",
   "id": "2ca429e5",
   "metadata": {},
   "source": [
    "19 . write a function by which you can print an ip address of your system ."
   ]
  },
  {
   "cell_type": "code",
   "execution_count": null,
   "id": "330e4cc3",
   "metadata": {},
   "outputs": [],
   "source": [
    "import socket,re,uuid\n",
    "def ip_address():\n",
    "    \"\"\"\n",
    "    This function displays ip address of your system\n",
    "    \"\"\"\n",
    "    info={}\n",
    "    info['ip-address']=socket.gethostbyname(socket.gethostname())\n",
    "    info['mac-address']=':'.join(re.findall('..', '%012x' % uuid.getnode()))\n",
    "    return info"
   ]
  },
  {
   "cell_type": "code",
   "execution_count": null,
   "id": "f1ec75f8",
   "metadata": {},
   "outputs": [],
   "source": [
    "ip_address()"
   ]
  },
  {
   "cell_type": "markdown",
   "id": "461382cc",
   "metadata": {},
   "source": [
    "20 . write a function by which you will be able to append two PDF files ."
   ]
  },
  {
   "cell_type": "code",
   "execution_count": null,
   "id": "8a4acd6a",
   "metadata": {},
   "outputs": [],
   "source": [
    "import os,PyPDF2\n",
    "def pdf_merger(dir_path,file_name):\n",
    "    \"\"\"\n",
    "    This function filters only word file from a directory\n",
    "    \"\"\"\n",
    "    if dir_path == '':\n",
    "        dir_path =os.getcwd()\n",
    "    merged_file = os.path.join(dir_path,file_name)\n",
    "    merger = PyPDF2.PdfFileMerger()\n",
    "    for item in os.listdir(dir_path):\n",
    "        if item.endswith('.pdf'):\n",
    "            merger.append(item)\n",
    "    merger.write(f'{merged_file}')       \n",
    "    merger.close()\n",
    "    return f\"All pdf files merged to: {merged_file}\""
   ]
  },
  {
   "cell_type": "code",
   "execution_count": null,
   "id": "3af1c09f",
   "metadata": {},
   "outputs": [],
   "source": []
  }
 ],
 "metadata": {
  "kernelspec": {
   "display_name": "Python 3 (ipykernel)",
   "language": "python",
   "name": "python3"
  },
  "language_info": {
   "codemirror_mode": {
    "name": "ipython",
    "version": 3
   },
   "file_extension": ".py",
   "mimetype": "text/x-python",
   "name": "python",
   "nbconvert_exporter": "python",
   "pygments_lexer": "ipython3",
   "version": "3.9.7"
  }
 },
 "nbformat": 4,
 "nbformat_minor": 5
}
